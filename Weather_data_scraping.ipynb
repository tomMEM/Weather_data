{
  "nbformat": 4,
  "nbformat_minor": 0,
  "metadata": {
    "colab": {
      "name": "Weather_data_scraping.ipynb",
      "provenance": [],
      "collapsed_sections": [],
      "authorship_tag": "ABX9TyPXiAMhMJG7S7nFzKdNVjgT",
      "include_colab_link": true
    },
    "kernelspec": {
      "name": "python3",
      "display_name": "Python 3"
    },
    "language_info": {
      "name": "python"
    }
  },
  "cells": [
    {
      "cell_type": "markdown",
      "metadata": {
        "id": "view-in-github",
        "colab_type": "text"
      },
      "source": [
        "<a href=\"https://colab.research.google.com/github/tomMEM/Weather_data/blob/main/Weather_data_scraping.ipynb\" target=\"_parent\"><img src=\"https://colab.research.google.com/assets/colab-badge.svg\" alt=\"Open In Colab\"/></a>"
      ]
    },
    {
      "cell_type": "code",
      "metadata": {
        "id": "Asfoen9C41wP"
      },
      "source": [
        ""
      ],
      "execution_count": null,
      "outputs": []
    },
    {
      "cell_type": "code",
      "metadata": {
        "colab": {
          "base_uri": "https://localhost:8080/"
        },
        "id": "aQJalcZn5haZ",
        "outputId": "5b2ba73f-4d56-46bc-f2dd-35c211c23f34"
      },
      "source": [
        "from google.colab import drive\n",
        "drive.mount('/content/drive')"
      ],
      "execution_count": 17,
      "outputs": [
        {
          "output_type": "stream",
          "name": "stdout",
          "text": [
            "Drive already mounted at /content/drive; to attempt to forcibly remount, call drive.mount(\"/content/drive\", force_remount=True).\n"
          ]
        }
      ]
    },
    {
      "cell_type": "code",
      "metadata": {
        "id": "aiWx8nil5_CC"
      },
      "source": [
        "%cd drive/My Drive"
      ],
      "execution_count": null,
      "outputs": []
    },
    {
      "cell_type": "code",
      "metadata": {
        "colab": {
          "base_uri": "https://localhost:8080/"
        },
        "id": "pJ9KnYJy7ExI",
        "outputId": "a7d9c3ae-cc59-4f22-87cd-240be25f15ba"
      },
      "source": [
        "%cd Weather"
      ],
      "execution_count": null,
      "outputs": [
        {
          "output_type": "stream",
          "name": "stdout",
          "text": [
            "/content/drive/My Drive/Weather\n"
          ]
        }
      ]
    },
    {
      "cell_type": "code",
      "metadata": {
        "id": "bYyNa4Jl6a3D",
        "colab": {
          "base_uri": "https://localhost:8080/"
        },
        "outputId": "9313316a-c3d7-45ce-953c-7f392427cfdd"
      },
      "source": [
        "! ls"
      ],
      "execution_count": 18,
      "outputs": [
        {
          "output_type": "stream",
          "name": "stdout",
          "text": [
            "Weather_data_scraping.ipynb\n"
          ]
        }
      ]
    },
    {
      "cell_type": "markdown",
      "metadata": {
        "id": "pJpvam5u8Zjb"
      },
      "source": [
        "### 1 Install Meteostat \n",
        " * WEB:https://meteostat.net/en/place/CA-QVT9?t=2021-09-13/2021-09-19\n",
        " * Script sample: https://pypi.org/project/meteostat/"
      ]
    },
    {
      "cell_type": "code",
      "metadata": {
        "id": "bcXvcHc38H0G"
      },
      "source": [
        "! pip install meteostat "
      ],
      "execution_count": null,
      "outputs": []
    },
    {
      "cell_type": "code",
      "metadata": {
        "id": "L6ZX5AlNAw2Z"
      },
      "source": [
        "# might be not required\n",
        "import sys\n",
        "!{sys.executable} -m pip install --upgrade pandas==1.1.0 --no-cache-dir\n",
        "!{sys.executable} -m pip install --upgrade urllib3==1.25.8 --no-cache-dir\n",
        "!{sys.executable} -m pip install pandas-datareader --no-cache-dir"
      ],
      "execution_count": null,
      "outputs": []
    },
    {
      "cell_type": "code",
      "metadata": {
        "id": "Q_gEC9KRAvbs"
      },
      "source": [
        "# Might be not required\n",
        "from pandas_datareader import data as pdr\n",
        "import pandas as pd\n",
        "from pandas import *\n",
        "from pandas import ExcelWriter\n",
        "import pandas as pd\n",
        "import datetime\n",
        "import time\n",
        "\n",
        "import os.path\n",
        "from os import path\n",
        "import csv"
      ],
      "execution_count": null,
      "outputs": []
    },
    {
      "cell_type": "code",
      "metadata": {
        "colab": {
          "base_uri": "https://localhost:8080/",
          "height": 280
        },
        "id": "EG9KdtpK8vWG",
        "outputId": "eb456c12-911f-4cda-d018-f36fbbc77ae1"
      },
      "source": [
        "# Import Meteostat library and dependencies\n",
        "from datetime import datetime\n",
        "import matplotlib.pyplot as plt\n",
        "from meteostat import Point, Daily\n",
        "\n",
        "# Set time period \n",
        "start = datetime(1930, 9, 15)\n",
        "end = datetime(2021, 9, 15)\n",
        "location_name='Berlin'\n",
        "\n",
        "# Create Point for Vancouver, BC\n",
        "#location = Point(49.2497, -123.1193, 70)\n",
        "\n",
        "# TB: Create Point for Berlin, Germany\n",
        "location = Point(52.5244, 13.4105, 70)\n",
        "\n",
        "# Get daily data for 2018\n",
        "data = Daily(location, start, end)\n",
        "data = data.fetch()\n",
        "\n",
        "# Plot line chart including average, minimum and maximum temperature\n",
        "data.plot(y=['tavg', 'tmin', 'tmax'])\n",
        "plt.show()\n"
      ],
      "execution_count": 34,
      "outputs": [
        {
          "output_type": "display_data",
          "data": {
            "image/png": "[encoded data removed]",
            "text/plain": [
              "<Figure size 432x288 with 1 Axes>"
            ]
          },
          "metadata": {
            "needs_background": "light"
          }
        }
      ]
    },
    {
      "cell_type": "code",
      "metadata": {
        "colab": {
          "base_uri": "https://localhost:8080/",
          "height": 235
        },
        "id": "be5Vr14eAE-f",
        "outputId": "740418cd-0379-4e61-c3b5-cf20ebe5ab55"
      },
      "source": [
        "data.tail()"
      ],
      "execution_count": 35,
      "outputs": [
        {
          "output_type": "execute_result",
          "data": {
            "text/html": [
              "<div>\n",
              "<style scoped>\n",
              "    .dataframe tbody tr th:only-of-type {\n",
              "        vertical-align: middle;\n",
              "    }\n",
              "\n",
              "    .dataframe tbody tr th {\n",
              "        vertical-align: top;\n",
              "    }\n",
              "\n",
              "    .dataframe thead th {\n",
              "        text-align: right;\n",
              "    }\n",
              "</style>\n",
              "<table border=\"1\" class=\"dataframe\">\n",
              "  <thead>\n",
              "    <tr style=\"text-align: right;\">\n",
              "      <th></th>\n",
              "      <th>tavg</th>\n",
              "      <th>tmin</th>\n",
              "      <th>tmax</th>\n",
              "      <th>prcp</th>\n",
              "      <th>snow</th>\n",
              "      <th>wdir</th>\n",
              "      <th>wspd</th>\n",
              "      <th>wpgt</th>\n",
              "      <th>pres</th>\n",
              "      <th>tsun</th>\n",
              "    </tr>\n",
              "    <tr>\n",
              "      <th>time</th>\n",
              "      <th></th>\n",
              "      <th></th>\n",
              "      <th></th>\n",
              "      <th></th>\n",
              "      <th></th>\n",
              "      <th></th>\n",
              "      <th></th>\n",
              "      <th></th>\n",
              "      <th></th>\n",
              "      <th></th>\n",
              "    </tr>\n",
              "  </thead>\n",
              "  <tbody>\n",
              "    <tr>\n",
              "      <th>2021-09-11</th>\n",
              "      <td>18.5</td>\n",
              "      <td>16.1</td>\n",
              "      <td>22.2</td>\n",
              "      <td>2.0</td>\n",
              "      <td>NaN</td>\n",
              "      <td>239.2</td>\n",
              "      <td>10.0</td>\n",
              "      <td>24.1</td>\n",
              "      <td>1015.1</td>\n",
              "      <td>204.0</td>\n",
              "    </tr>\n",
              "    <tr>\n",
              "      <th>2021-09-12</th>\n",
              "      <td>17.4</td>\n",
              "      <td>14.4</td>\n",
              "      <td>20.9</td>\n",
              "      <td>0.0</td>\n",
              "      <td>NaN</td>\n",
              "      <td>261.1</td>\n",
              "      <td>10.9</td>\n",
              "      <td>25.9</td>\n",
              "      <td>1016.3</td>\n",
              "      <td>99.0</td>\n",
              "    </tr>\n",
              "    <tr>\n",
              "      <th>2021-09-13</th>\n",
              "      <td>15.8</td>\n",
              "      <td>13.1</td>\n",
              "      <td>18.7</td>\n",
              "      <td>0.0</td>\n",
              "      <td>NaN</td>\n",
              "      <td>294.5</td>\n",
              "      <td>10.5</td>\n",
              "      <td>27.8</td>\n",
              "      <td>1017.8</td>\n",
              "      <td>NaN</td>\n",
              "    </tr>\n",
              "    <tr>\n",
              "      <th>2021-09-14</th>\n",
              "      <td>15.9</td>\n",
              "      <td>11.1</td>\n",
              "      <td>21.3</td>\n",
              "      <td>0.0</td>\n",
              "      <td>NaN</td>\n",
              "      <td>113.6</td>\n",
              "      <td>8.2</td>\n",
              "      <td>24.1</td>\n",
              "      <td>1018.4</td>\n",
              "      <td>NaN</td>\n",
              "    </tr>\n",
              "    <tr>\n",
              "      <th>2021-09-15</th>\n",
              "      <td>17.8</td>\n",
              "      <td>13.4</td>\n",
              "      <td>22.9</td>\n",
              "      <td>4.6</td>\n",
              "      <td>NaN</td>\n",
              "      <td>143.4</td>\n",
              "      <td>12.1</td>\n",
              "      <td>27.8</td>\n",
              "      <td>1013.2</td>\n",
              "      <td>NaN</td>\n",
              "    </tr>\n",
              "  </tbody>\n",
              "</table>\n",
              "</div>"
            ],
            "text/plain": [
              "            tavg  tmin  tmax  prcp  snow   wdir  wspd  wpgt    pres   tsun\n",
              "time                                                                      \n",
              "2021-09-11  18.5  16.1  22.2   2.0   NaN  239.2  10.0  24.1  1015.1  204.0\n",
              "2021-09-12  17.4  14.4  20.9   0.0   NaN  261.1  10.9  25.9  1016.3   99.0\n",
              "2021-09-13  15.8  13.1  18.7   0.0   NaN  294.5  10.5  27.8  1017.8    NaN\n",
              "2021-09-14  15.9  11.1  21.3   0.0   NaN  113.6   8.2  24.1  1018.4    NaN\n",
              "2021-09-15  17.8  13.4  22.9   4.6   NaN  143.4  12.1  27.8  1013.2    NaN"
            ]
          },
          "metadata": {},
          "execution_count": 35
        }
      ]
    },
    {
      "cell_type": "code",
      "metadata": {
        "id": "4leHiYZHALYS"
      },
      "source": [
        "data.to_csv(location_name+'.csv')"
      ],
      "execution_count": 36,
      "outputs": []
    }
  ]
}